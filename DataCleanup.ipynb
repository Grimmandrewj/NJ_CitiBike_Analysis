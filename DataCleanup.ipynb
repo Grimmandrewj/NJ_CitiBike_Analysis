{
 "cells": [
  {
   "cell_type": "markdown",
   "id": "2c48e446",
   "metadata": {},
   "source": [
    "## Import Dependencies"
   ]
  },
  {
   "cell_type": "code",
   "execution_count": 2,
   "id": "79079578",
   "metadata": {},
   "outputs": [],
   "source": [
    "import pandas as pd\n",
    "import matplotlib.pyplot as plt\n",
    "import numpy as np"
   ]
  },
  {
   "cell_type": "markdown",
   "id": "88c2687c",
   "metadata": {},
   "source": [
    "## Read in csv files"
   ]
  },
  {
   "cell_type": "code",
   "execution_count": 3,
   "id": "c95b8b21",
   "metadata": {},
   "outputs": [],
   "source": [
    "jandata = pd.read_csv(\"Citibike Data/JC-202001-citibike-tripdata.csv\")\n",
    "febdata = pd.read_csv(\"Citibike Data/JC-202002-citibike-tripdata.csv\")\n",
    "mardata = pd.read_csv(\"Citibike Data/JC-202003-citibike-tripdata.csv\")\n",
    "aprdata = pd.read_csv(\"Citibike Data/JC-202004-citibike-tripdata.csv\")\n",
    "maydata = pd.read_csv(\"Citibike Data/JC-202005-citibike-tripdata.csv\")\n",
    "jundata = pd.read_csv(\"Citibike Data/JC-202006-citibike-tripdata.csv\")\n",
    "juldata = pd.read_csv(\"Citibike Data/JC-202007-citibike-tripdata.csv\")\n",
    "augdata = pd.read_csv(\"Citibike Data/JC-202008-citibike-tripdata.csv\")\n",
    "sepdata = pd.read_csv(\"Citibike Data/JC-202009-citibike-tripdata.csv\")\n",
    "octdata = pd.read_csv(\"Citibike Data/JC-202010-citibike-tripdata.csv\")\n",
    "novdata = pd.read_csv(\"Citibike Data/JC-202011-citibike-tripdata.csv\")\n",
    "decdata = pd.read_csv(\"Citibike Data/JC-202012-citibike-tripdata.csv\")\n",
    "jantwentyonedata = pd.read_csv(\"Citibike Data/JC-202101-citibike-tripdata.csv\")"
   ]
  },
  {
   "cell_type": "markdown",
   "id": "2d606366",
   "metadata": {},
   "source": [
    "## Combining datasets into one csv file"
   ]
  },
  {
   "cell_type": "code",
   "execution_count": 4,
   "id": "895de90f",
   "metadata": {},
   "outputs": [
    {
     "data": {
      "text/html": [
       "<div>\n",
       "<style scoped>\n",
       "    .dataframe tbody tr th:only-of-type {\n",
       "        vertical-align: middle;\n",
       "    }\n",
       "\n",
       "    .dataframe tbody tr th {\n",
       "        vertical-align: top;\n",
       "    }\n",
       "\n",
       "    .dataframe thead th {\n",
       "        text-align: right;\n",
       "    }\n",
       "</style>\n",
       "<table border=\"1\" class=\"dataframe\">\n",
       "  <thead>\n",
       "    <tr style=\"text-align: right;\">\n",
       "      <th></th>\n",
       "      <th>tripduration</th>\n",
       "      <th>starttime</th>\n",
       "      <th>stoptime</th>\n",
       "      <th>start station id</th>\n",
       "      <th>start station name</th>\n",
       "      <th>start station latitude</th>\n",
       "      <th>start station longitude</th>\n",
       "      <th>end station id</th>\n",
       "      <th>end station name</th>\n",
       "      <th>end station latitude</th>\n",
       "      <th>end station longitude</th>\n",
       "      <th>bikeid</th>\n",
       "      <th>usertype</th>\n",
       "      <th>birth year</th>\n",
       "      <th>gender</th>\n",
       "    </tr>\n",
       "  </thead>\n",
       "  <tbody>\n",
       "    <tr>\n",
       "      <th>0</th>\n",
       "      <td>226</td>\n",
       "      <td>2020-01-01 00:04:50.1920</td>\n",
       "      <td>2020-01-01 00:08:37.0370</td>\n",
       "      <td>3186</td>\n",
       "      <td>Grove St PATH</td>\n",
       "      <td>40.719586</td>\n",
       "      <td>-74.043117</td>\n",
       "      <td>3211</td>\n",
       "      <td>Newark Ave</td>\n",
       "      <td>40.721525</td>\n",
       "      <td>-74.046305</td>\n",
       "      <td>29444</td>\n",
       "      <td>Subscriber</td>\n",
       "      <td>1984</td>\n",
       "      <td>2</td>\n",
       "    </tr>\n",
       "    <tr>\n",
       "      <th>1</th>\n",
       "      <td>377</td>\n",
       "      <td>2020-01-01 00:16:01.6700</td>\n",
       "      <td>2020-01-01 00:22:19.0800</td>\n",
       "      <td>3186</td>\n",
       "      <td>Grove St PATH</td>\n",
       "      <td>40.719586</td>\n",
       "      <td>-74.043117</td>\n",
       "      <td>3269</td>\n",
       "      <td>Brunswick &amp; 6th</td>\n",
       "      <td>40.726012</td>\n",
       "      <td>-74.050389</td>\n",
       "      <td>26305</td>\n",
       "      <td>Subscriber</td>\n",
       "      <td>1989</td>\n",
       "      <td>2</td>\n",
       "    </tr>\n",
       "    <tr>\n",
       "      <th>2</th>\n",
       "      <td>288</td>\n",
       "      <td>2020-01-01 00:17:33.8770</td>\n",
       "      <td>2020-01-01 00:22:22.4420</td>\n",
       "      <td>3186</td>\n",
       "      <td>Grove St PATH</td>\n",
       "      <td>40.719586</td>\n",
       "      <td>-74.043117</td>\n",
       "      <td>3269</td>\n",
       "      <td>Brunswick &amp; 6th</td>\n",
       "      <td>40.726012</td>\n",
       "      <td>-74.050389</td>\n",
       "      <td>29268</td>\n",
       "      <td>Customer</td>\n",
       "      <td>1989</td>\n",
       "      <td>1</td>\n",
       "    </tr>\n",
       "    <tr>\n",
       "      <th>3</th>\n",
       "      <td>435</td>\n",
       "      <td>2020-01-01 00:32:05.9020</td>\n",
       "      <td>2020-01-01 00:39:21.0660</td>\n",
       "      <td>3195</td>\n",
       "      <td>Sip Ave</td>\n",
       "      <td>40.730897</td>\n",
       "      <td>-74.063913</td>\n",
       "      <td>3280</td>\n",
       "      <td>Astor Place</td>\n",
       "      <td>40.719282</td>\n",
       "      <td>-74.071262</td>\n",
       "      <td>29278</td>\n",
       "      <td>Customer</td>\n",
       "      <td>1969</td>\n",
       "      <td>0</td>\n",
       "    </tr>\n",
       "    <tr>\n",
       "      <th>4</th>\n",
       "      <td>231</td>\n",
       "      <td>2020-01-01 00:46:19.6780</td>\n",
       "      <td>2020-01-01 00:50:11.3440</td>\n",
       "      <td>3186</td>\n",
       "      <td>Grove St PATH</td>\n",
       "      <td>40.719586</td>\n",
       "      <td>-74.043117</td>\n",
       "      <td>3276</td>\n",
       "      <td>Marin Light Rail</td>\n",
       "      <td>40.714584</td>\n",
       "      <td>-74.042817</td>\n",
       "      <td>29276</td>\n",
       "      <td>Subscriber</td>\n",
       "      <td>1983</td>\n",
       "      <td>2</td>\n",
       "    </tr>\n",
       "  </tbody>\n",
       "</table>\n",
       "</div>"
      ],
      "text/plain": [
       "   tripduration                 starttime                  stoptime  \\\n",
       "0           226  2020-01-01 00:04:50.1920  2020-01-01 00:08:37.0370   \n",
       "1           377  2020-01-01 00:16:01.6700  2020-01-01 00:22:19.0800   \n",
       "2           288  2020-01-01 00:17:33.8770  2020-01-01 00:22:22.4420   \n",
       "3           435  2020-01-01 00:32:05.9020  2020-01-01 00:39:21.0660   \n",
       "4           231  2020-01-01 00:46:19.6780  2020-01-01 00:50:11.3440   \n",
       "\n",
       "   start station id start station name  start station latitude  \\\n",
       "0              3186      Grove St PATH               40.719586   \n",
       "1              3186      Grove St PATH               40.719586   \n",
       "2              3186      Grove St PATH               40.719586   \n",
       "3              3195            Sip Ave               40.730897   \n",
       "4              3186      Grove St PATH               40.719586   \n",
       "\n",
       "   start station longitude  end station id  end station name  \\\n",
       "0               -74.043117            3211        Newark Ave   \n",
       "1               -74.043117            3269   Brunswick & 6th   \n",
       "2               -74.043117            3269   Brunswick & 6th   \n",
       "3               -74.063913            3280       Astor Place   \n",
       "4               -74.043117            3276  Marin Light Rail   \n",
       "\n",
       "   end station latitude  end station longitude  bikeid    usertype  \\\n",
       "0             40.721525             -74.046305   29444  Subscriber   \n",
       "1             40.726012             -74.050389   26305  Subscriber   \n",
       "2             40.726012             -74.050389   29268    Customer   \n",
       "3             40.719282             -74.071262   29278    Customer   \n",
       "4             40.714584             -74.042817   29276  Subscriber   \n",
       "\n",
       "   birth year  gender  \n",
       "0        1984       2  \n",
       "1        1989       2  \n",
       "2        1989       1  \n",
       "3        1969       0  \n",
       "4        1983       2  "
      ]
     },
     "execution_count": 4,
     "metadata": {},
     "output_type": "execute_result"
    }
   ],
   "source": [
    "firstjoin = pd.concat([jandata, febdata, mardata, aprdata,\n",
    "                       maydata, jundata, juldata, augdata,\n",
    "                       sepdata, octdata])\n",
    "finaljoin = pd.concat([firstjoin, novdata, decdata,\n",
    "                       jantwentyonedata])\n",
    "finaljoin.head()"
   ]
  },
  {
   "cell_type": "code",
   "execution_count": 55,
   "id": "a5eff741",
   "metadata": {},
   "outputs": [],
   "source": [
    "# Write new combined dataframe to csv file\n",
    "finaljoin.to_csv(\"Citibike Data/202001-202101-bikedata.csv\")"
   ]
  },
  {
   "cell_type": "code",
   "execution_count": 5,
   "id": "c83309ad",
   "metadata": {},
   "outputs": [
    {
     "data": {
      "text/plain": [
       "tripduration               348426\n",
       "starttime                  348426\n",
       "stoptime                   348426\n",
       "start station id           348426\n",
       "start station name         348426\n",
       "start station latitude     348426\n",
       "start station longitude    348426\n",
       "end station id             348426\n",
       "end station name           348426\n",
       "end station latitude       348426\n",
       "end station longitude      348426\n",
       "bikeid                     348426\n",
       "usertype                   348426\n",
       "birth year                 348426\n",
       "gender                     348426\n",
       "dtype: int64"
      ]
     },
     "execution_count": 5,
     "metadata": {},
     "output_type": "execute_result"
    }
   ],
   "source": [
    "# Checking number of records\n",
    "finaljoin.count()"
   ]
  },
  {
   "cell_type": "code",
   "execution_count": 8,
   "id": "7c4fe5f7",
   "metadata": {},
   "outputs": [
    {
     "data": {
      "text/plain": [
       "tripduration                 int64\n",
       "starttime                   object\n",
       "stoptime                    object\n",
       "start station id             int64\n",
       "start station name          object\n",
       "start station latitude     float64\n",
       "start station longitude    float64\n",
       "end station id               int64\n",
       "end station name            object\n",
       "end station latitude       float64\n",
       "end station longitude      float64\n",
       "bikeid                       int64\n",
       "usertype                    object\n",
       "birth year                   int64\n",
       "gender                       int64\n",
       "dtype: object"
      ]
     },
     "execution_count": 8,
     "metadata": {},
     "output_type": "execute_result"
    }
   ],
   "source": [
    "# Checking datatypes of columns\n",
    "finaljoin.dtypes"
   ]
  }
 ],
 "metadata": {
  "kernelspec": {
   "display_name": "Python 3 (ipykernel)",
   "language": "python",
   "name": "python3"
  },
  "language_info": {
   "codemirror_mode": {
    "name": "ipython",
    "version": 3
   },
   "file_extension": ".py",
   "mimetype": "text/x-python",
   "name": "python",
   "nbconvert_exporter": "python",
   "pygments_lexer": "ipython3",
   "version": "3.7.7"
  }
 },
 "nbformat": 4,
 "nbformat_minor": 5
}
